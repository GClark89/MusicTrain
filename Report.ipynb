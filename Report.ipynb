{
 "cells": [
  {
   "cell_type": "markdown",
   "metadata": {},
   "source": [
    "## What insights did you gain from your EDA ? WERE any columns highly correlated ? If So name them. \n",
    "\n",
    "-  Johnny Cash and Ella Fitzgerald were the top artist in this dataset with Johnny having 190 songs and Ella having 188. \n",
    "-  Pop was the most popular genre with 7038 songs falling under the category. \n",
    "-  Hip Hop had the least amount of songs as the genre began in the 70's. \n",
    "-  Sadness, world/life, obscene & violence were the top 4 topics. \n",
    "-  Hip Hop has the highest level of obscenity \n",
    "-  Pop and country carry alot of sadness and feelings \n",
    "-  Obscenity is more common in modern music \n",
    "-  The older the muic , the more communication is prominent \n",
    "-  Romance and music topics are more common with older music \n",
    "-  Release date and age are perfectly negatively correlated \n",
    "\n",
    "## How did you determine which columns to drop or keep? If your EDA informed this process, explain which insights you used to determine which columns were not needed.\n",
    "\n",
    "- I dropped all of the columns, that were described as an object , compared to an integer. So artist name, track name, genre , topic & lyrics were removed. \n",
    "- Next I dropped Unnamed : 0 as it had no purpose as i was getting ready to set up my model. \n",
    "- Lastly with Relase date and age being perfectly negatively correlated, i dropped release date and kept age, since age was already scaled between 0 & 1. \n",
    "\n",
    "\n",
    "## The optimal numeber of clusters in your mode? Explained how you determind this value \n",
    "-  I used both the Elbow Method and Silhouette Analysis. In the elbow plot , the rate of decrease in WCSS signigicantly slows around K=13, suggesting it \n",
    "as an appropriate elbow point. \n",
    "- In the Silhouette Plot, K = 13 yields one of the highest silhouette scores, indicating well-separated and coherent clusters.\n",
    "   - Therefore, K = 13 was selected as the optimal number of clusters for this dataset.\n",
    "\n",
    "## Take a look at the respective songs that fell into your clusters. Describe these clusters in human terms to the best of your ability using the columns in your dataset (for example high-gospel songs, low-gospel songs, etc). Feel free to listen to these songs as well to get a sense of what nuance your algorithm picked up on.\n",
    "\n",
    "I feel like the model has worked pretty well. For example Cluster 1 has world/life ,communication ,age & movement/places. First example of a song that stood out that was Heal the world by Michael Jackson. This cluster matches each of the top features as we see a blues song like We do Wie Du in this cluster, which aims itself towards an older audience. This cluster gives reflective songs focused on life, relationships or messages with a mature tone. \n",
    "\n",
    "In Cluster 7, we have  dating ,age, romantic & night/time. Here we have a song like \"Everything\" by Mary J Blige that fits this cluster so well. Another being \" A fool for love\" by UFO where the genre is different (blues) but still a romance / dating vibe. This cluster tells me theres romantic or emotionally initimate songs, likely dealing with love and personal life. \n",
    "\n",
    "Cluster 2, we have Shate the aufience, obscene , violence and len. Here we have songs like \"Piece of me \" by Brittney Spears and \"Cut it\" by O.T Genaisis. Again these make sense in this cluster falling under Shake the audience and obscenities. This cluster has High-energy, edgy songs with bold or explicit lyrical content and these are two great examples of that. \n",
    "\n",
    "## Take a look at the clusters that your algorithm assigned to your test samples. Based on these clusters, which songs would you recommend to this user?\n",
    "\n",
    "Cluster 1\n",
    "- Second Chance - Dennis Brown \n",
    "- Pistol Grip Pump - Rage against the machine \n",
    "- Messin with my mind - Randy Travis \n",
    "\n",
    "Cluster 4 \n",
    "- Playing God - Paramore"
   ]
  },
  {
   "cell_type": "markdown",
   "metadata": {},
   "source": []
  }
 ],
 "metadata": {
  "language_info": {
   "name": "python"
  }
 },
 "nbformat": 4,
 "nbformat_minor": 2
}
