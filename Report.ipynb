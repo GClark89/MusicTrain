{
 "cells": [
  {
   "cell_type": "markdown",
   "metadata": {},
   "source": [
    "# What insights did you gain from your EDA ? WERE any columns highly correlated ? If So name them. \n",
    "\n",
    "-  Johnny Cash and Ella Fitzgerald were the top artist in this dataset with Johnny having 190 songs and Ella having 188. \n",
    "-  Pop was the most popular genre with 7038 songs falling under the category. \n",
    "-  Hip Hop had the least amount of songs as the genre began in the 70's. \n",
    "-  Sadness, world/life, obscene & violence were the top 4 topics. \n",
    "-  Hip Hop has the highest level of obscenity \n",
    "-  Pop and country carry alot of sadness and feelings \n",
    "-  Obscenity is more common in modern music \n",
    "-  The older the muic , the more communication is prominent \n",
    "-  Romance and music topics are more common with older music \n",
    "-  Release date and age are perfectly negatively correlated "
   ]
  }
 ],
 "metadata": {
  "language_info": {
   "name": "python"
  }
 },
 "nbformat": 4,
 "nbformat_minor": 2
}
